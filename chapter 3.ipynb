{
 "cells": [
  {
   "cell_type": "markdown",
   "id": "9c384860",
   "metadata": {},
   "source": [
    "# conditional steps"
   ]
  },
  {
   "cell_type": "code",
   "execution_count": 1,
   "id": "30901567",
   "metadata": {},
   "outputs": [
    {
     "name": "stdout",
     "output_type": "stream",
     "text": [
      "smaller\n",
      "finis\n"
     ]
    }
   ],
   "source": [
    "x=5\n",
    "if x<10:\n",
    "    print('smaller')\n",
    "if x>20:\n",
    "    print('bigger')\n",
    "print('finis')    "
   ]
  },
  {
   "cell_type": "markdown",
   "id": "bf6ce271",
   "metadata": {},
   "source": [
    "# comparison operators\n"
   ]
  },
  {
   "cell_type": "code",
   "execution_count": 2,
   "id": "525478fe",
   "metadata": {},
   "outputs": [
    {
     "name": "stdout",
     "output_type": "stream",
     "text": [
      "Equals 5\n",
      "Greater than 4\n",
      "Greater than or equals 5\n",
      "less than 6\n",
      "less than or equals 5\n",
      "not equal 6\n"
     ]
    }
   ],
   "source": [
    "x=5\n",
    "if x==5:\n",
    "    print('Equals 5')\n",
    "if x>4 :\n",
    "    print('Greater than 4')\n",
    "if x>=5 :\n",
    "    print('Greater than or equals 5')\n",
    "if x<6 :\n",
    "    print('less than 6')\n",
    "if x<=5 :\n",
    "    print('less than or equals 5')\n",
    "if x!=6 :\n",
    "    print('not equal 6')"
   ]
  },
  {
   "cell_type": "markdown",
   "id": "75a8f7bc",
   "metadata": {},
   "source": [
    "# One-way decisions"
   ]
  },
  {
   "cell_type": "code",
   "execution_count": 4,
   "id": "6cc89d55",
   "metadata": {},
   "outputs": [
    {
     "name": "stdout",
     "output_type": "stream",
     "text": [
      "before 5\n",
      "Is 5\n",
      "Is still 5\n",
      "third 5\n",
      "Afterwards 5\n",
      "before 6\n",
      "Afterwards 6\n"
     ]
    }
   ],
   "source": [
    "x=5\n",
    "print('before 5')\n",
    "if x==5 :\n",
    "    print('Is 5')\n",
    "    print('Is still 5')\n",
    "    print('third 5')\n",
    "print('Afterwards 5') \n",
    "print('before 6')\n",
    "if x==6:\n",
    "    print('Is 6') \n",
    "    print('Is still 6')\n",
    "    print('third 6') \n",
    "print('Afterwards 6')"
   ]
  },
  {
   "cell_type": "markdown",
   "id": "dfa5d317",
   "metadata": {},
   "source": [
    "# Indentation"
   ]
  },
  {
   "cell_type": "code",
   "execution_count": 5,
   "id": "a6b466d6",
   "metadata": {},
   "outputs": [
    {
     "name": "stdout",
     "output_type": "stream",
     "text": [
      "bigger than 2\n",
      "still bigger\n",
      "done with 2\n",
      "0\n",
      "done with i 0\n",
      "1\n",
      "done with i 1\n",
      "2\n",
      "done with i 2\n",
      "3\n",
      "bigger than 2\n",
      "done with i 3\n",
      "4\n",
      "bigger than 2\n",
      "done with i 4\n",
      "All done\n"
     ]
    }
   ],
   "source": [
    "x=5\n",
    "if x>2 :\n",
    "    print('bigger than 2')\n",
    "    print('still bigger')\n",
    "print('done with 2')\n",
    "\n",
    "for i in range(5) :\n",
    "    print(i)\n",
    "    if i>2 :\n",
    "        print('bigger than 2')\n",
    "    print('done with i', i)\n",
    "print('All done')"
   ]
  },
  {
   "cell_type": "markdown",
   "id": "0100140a",
   "metadata": {},
   "source": [
    "# Nested Decisions"
   ]
  },
  {
   "cell_type": "code",
   "execution_count": 6,
   "id": "419ee47f",
   "metadata": {},
   "outputs": [
    {
     "name": "stdout",
     "output_type": "stream",
     "text": [
      "More than one\n",
      "less than 100\n",
      "All done\n"
     ]
    }
   ],
   "source": [
    "x=42\n",
    "if x>1 :\n",
    "    print('More than one')\n",
    "    if x<100 :\n",
    "        print('less than 100')\n",
    "print('All done')"
   ]
  },
  {
   "cell_type": "markdown",
   "id": "43bb45e5",
   "metadata": {},
   "source": [
    "# Two-way decisions wit else:"
   ]
  },
  {
   "cell_type": "code",
   "execution_count": 7,
   "id": "67e323b4",
   "metadata": {},
   "outputs": [
    {
     "name": "stdout",
     "output_type": "stream",
     "text": [
      "Bigger\n",
      "All done\n"
     ]
    }
   ],
   "source": [
    "x=6\n",
    "if x>2:\n",
    "    print('Bigger')\n",
    "else:\n",
    "    print('smaller')\n",
    "print('All done')"
   ]
  },
  {
   "cell_type": "markdown",
   "id": "f18d75c2",
   "metadata": {},
   "source": [
    "# Multi-way"
   ]
  },
  {
   "cell_type": "code",
   "execution_count": 8,
   "id": "45faec89",
   "metadata": {},
   "outputs": [
    {
     "name": "stdout",
     "output_type": "stream",
     "text": [
      "Large\n",
      "All done\n"
     ]
    }
   ],
   "source": [
    "x=20\n",
    "if x<2:\n",
    "    print('small')\n",
    "elif x<10:\n",
    "    print('Medium')\n",
    "else :\n",
    "    print('Large')\n",
    "print('All done')"
   ]
  },
  {
   "cell_type": "code",
   "execution_count": 9,
   "id": "0380be3b",
   "metadata": {},
   "outputs": [
    {
     "name": "stdout",
     "output_type": "stream",
     "text": [
      "large\n"
     ]
    }
   ],
   "source": [
    "if x<2 :\n",
    "    print('Small')\n",
    "elif x<10 :\n",
    "    print('Medium')\n",
    "elif x<20 :\n",
    "    print('big')\n",
    "elif x<40 :\n",
    "    print('large')\n",
    "elif x<100 :\n",
    "    print('huge')\n",
    "else:\n",
    "    print('Ginormous')"
   ]
  },
  {
   "cell_type": "markdown",
   "id": "ac0526b3",
   "metadata": {},
   "source": [
    "# The try/except structure"
   ]
  },
  {
   "cell_type": "code",
   "execution_count": 10,
   "id": "e5afb284",
   "metadata": {},
   "outputs": [
    {
     "name": "stdout",
     "output_type": "stream",
     "text": [
      "First -1\n",
      "Second 123\n"
     ]
    }
   ],
   "source": [
    "a='Hello world'\n",
    "try:\n",
    "    b =int(a)\n",
    "except:\n",
    "    b=-1\n",
    "print('First', b)\n",
    "\n",
    "a= '123'\n",
    "try:\n",
    "    b=int(a)\n",
    "except:\n",
    "    b=-1\n",
    "    \n",
    "print('Second', b)"
   ]
  },
  {
   "cell_type": "code",
   "execution_count": 11,
   "id": "067ba373",
   "metadata": {},
   "outputs": [
    {
     "name": "stdout",
     "output_type": "stream",
     "text": [
      "Hello\n",
      "done -1\n"
     ]
    }
   ],
   "source": [
    "a='bob'\n",
    "try:\n",
    "    print('Hello')\n",
    "    b =int(a)\n",
    "    print('There')\n",
    "except:\n",
    "    b=-1\n",
    "print('done', b)"
   ]
  },
  {
   "cell_type": "code",
   "execution_count": 12,
   "id": "b7ac022d",
   "metadata": {},
   "outputs": [
    {
     "name": "stdout",
     "output_type": "stream",
     "text": [
      "Enter a no.76\n",
      "Nice work\n"
     ]
    }
   ],
   "source": [
    "a=input('Enter a no.')\n",
    "try:\n",
    "    b =int(a)\n",
    "except:\n",
    "    b=-1\n",
    "if b>0 :\n",
    "    print('Nice work')\n",
    "else :\n",
    "    print('Not a no.')"
   ]
  },
  {
   "cell_type": "code",
   "execution_count": 13,
   "id": "2e236b8f",
   "metadata": {},
   "outputs": [
    {
     "name": "stdout",
     "output_type": "stream",
     "text": [
      "Enter a no.fifty\n",
      "Not a no.\n"
     ]
    }
   ],
   "source": [
    "a=input('Enter a no.')\n",
    "try:\n",
    "    b =int(a)\n",
    "except:\n",
    "    b=-1\n",
    "if b>0 :\n",
    "    print('Nice work')\n",
    "else :\n",
    "    print('Not a no.')"
   ]
  },
  {
   "cell_type": "code",
   "execution_count": null,
   "id": "f01c50eb",
   "metadata": {},
   "outputs": [],
   "source": []
  }
 ],
 "metadata": {
  "kernelspec": {
   "display_name": "Python 3 (ipykernel)",
   "language": "python",
   "name": "python3"
  },
  "language_info": {
   "codemirror_mode": {
    "name": "ipython",
    "version": 3
   },
   "file_extension": ".py",
   "mimetype": "text/x-python",
   "name": "python",
   "nbconvert_exporter": "python",
   "pygments_lexer": "ipython3",
   "version": "3.11.4"
  }
 },
 "nbformat": 4,
 "nbformat_minor": 5
}
