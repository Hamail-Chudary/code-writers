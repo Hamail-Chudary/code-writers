{
 "cells": [
  {
   "cell_type": "markdown",
   "id": "2d5be106",
   "metadata": {},
   "source": [
    "# Opening the text file"
   ]
  },
  {
   "cell_type": "code",
   "execution_count": 1,
   "id": "0f6e9cfc",
   "metadata": {},
   "outputs": [
    {
     "name": "stdout",
     "output_type": "stream",
     "text": [
      "<_io.TextIOWrapper name='sir.txt' mode='r' encoding='cp1252'>\n"
     ]
    }
   ],
   "source": [
    "fhand = open('sir.txt')\n",
    "print(fhand)"
   ]
  },
  {
   "cell_type": "markdown",
   "id": "5dd2c698",
   "metadata": {},
   "source": [
    "# The new line character \\n"
   ]
  },
  {
   "cell_type": "code",
   "execution_count": 2,
   "id": "2bdbe117",
   "metadata": {},
   "outputs": [
    {
     "name": "stdout",
     "output_type": "stream",
     "text": [
      "Hello\n",
      "World!\n"
     ]
    }
   ],
   "source": [
    "stuff = 'Hello\\nWorld!'\n",
    "print(stuff)"
   ]
  },
  {
   "cell_type": "code",
   "execution_count": 3,
   "id": "592cdd0b",
   "metadata": {},
   "outputs": [
    {
     "name": "stdout",
     "output_type": "stream",
     "text": [
      "X\n",
      "Y\n"
     ]
    }
   ],
   "source": [
    "stuff = 'X\\nY'\n",
    "print(stuff)"
   ]
  },
  {
   "cell_type": "code",
   "execution_count": 4,
   "id": "cd3e343b",
   "metadata": {},
   "outputs": [
    {
     "data": {
      "text/plain": [
       "3"
      ]
     },
     "execution_count": 4,
     "metadata": {},
     "output_type": "execute_result"
    }
   ],
   "source": [
    "len(stuff)"
   ]
  },
  {
   "cell_type": "markdown",
   "id": "791884e6",
   "metadata": {},
   "source": [
    "# File handle as a sequence"
   ]
  },
  {
   "cell_type": "code",
   "execution_count": 6,
   "id": "aa34d890",
   "metadata": {},
   "outputs": [
    {
     "name": "stdout",
     "output_type": "stream",
     "text": [
      "Hello \n",
      "\n",
      "I am Hamail ch.\n",
      "\n",
      "I want to become a pilot  \n",
      "\n",
      "Now i am studing in University of Agriculture faislabad.\n"
     ]
    }
   ],
   "source": [
    "xfile = open('sir.txt')\n",
    "for cheese in xfile:\n",
    "    print(cheese)\n"
   ]
  },
  {
   "cell_type": "markdown",
   "id": "af48d64f",
   "metadata": {},
   "source": [
    "# counting lines in a file\n"
   ]
  },
  {
   "cell_type": "code",
   "execution_count": 7,
   "id": "1381f336",
   "metadata": {},
   "outputs": [
    {
     "name": "stdout",
     "output_type": "stream",
     "text": [
      "Line Count: 4\n"
     ]
    }
   ],
   "source": [
    "fhand = open('sir.txt')\n",
    "count = 0\n",
    "for line in fhand:\n",
    "    count = count + 1\n",
    "print('Line Count:', count)"
   ]
  },
  {
   "cell_type": "markdown",
   "id": "b4e93209",
   "metadata": {},
   "source": [
    "# Reading the *whole* file"
   ]
  },
  {
   "cell_type": "code",
   "execution_count": 11,
   "id": "41bbb1f4",
   "metadata": {},
   "outputs": [
    {
     "name": "stdout",
     "output_type": "stream",
     "text": [
      "106\n"
     ]
    }
   ],
   "source": [
    "fhand = open('sir.txt')\n",
    "inp = fhand.read()\n",
    "print(len(inp))"
   ]
  },
  {
   "cell_type": "code",
   "execution_count": 12,
   "id": "44b97c8d",
   "metadata": {},
   "outputs": [
    {
     "name": "stdout",
     "output_type": "stream",
     "text": [
      "Hello \n",
      "I am Hamail c\n"
     ]
    }
   ],
   "source": [
    "print(inp[:20])"
   ]
  },
  {
   "cell_type": "markdown",
   "id": "bd07f2c0",
   "metadata": {},
   "source": [
    "# Searching through a file"
   ]
  },
  {
   "cell_type": "code",
   "execution_count": 13,
   "id": "8d74d79c",
   "metadata": {},
   "outputs": [
    {
     "name": "stdout",
     "output_type": "stream",
     "text": [
      "I am Hamail ch.\n",
      "\n",
      "I want to become a pilot  \n",
      "\n"
     ]
    }
   ],
   "source": [
    "fhand = open('sir.txt')\n",
    "for line in fhand:\n",
    "    if line.startswith('I') :\n",
    "        print(line)\n"
   ]
  },
  {
   "cell_type": "markdown",
   "id": "c23e212f",
   "metadata": {},
   "source": [
    "# Searching Through a File (fixed)"
   ]
  },
  {
   "cell_type": "code",
   "execution_count": 14,
   "id": "5ae9edb1",
   "metadata": {},
   "outputs": [
    {
     "name": "stdout",
     "output_type": "stream",
     "text": [
      "I am Hamail ch.\n",
      "I want to become a pilot\n"
     ]
    }
   ],
   "source": [
    "fhand = open('sir.txt')\n",
    "for line in fhand:\n",
    "    line = line.rstrip()\n",
    "    if line.startswith('I') :\n",
    "        print(line)"
   ]
  },
  {
   "cell_type": "markdown",
   "id": "d413119b",
   "metadata": {},
   "source": [
    "# skipping with continue"
   ]
  },
  {
   "cell_type": "code",
   "execution_count": 17,
   "id": "1e90a976",
   "metadata": {},
   "outputs": [
    {
     "name": "stdout",
     "output_type": "stream",
     "text": [
      "Now i am studing in University of Agriculture faislabad.\n"
     ]
    }
   ],
   "source": [
    "fhand = open('sir.txt')\n",
    "for line in fhand:\n",
    "    line = line.rstrip()\n",
    "    if not line.startswith('Now') :\n",
    "        continue\n",
    "    print(line)\n"
   ]
  },
  {
   "cell_type": "markdown",
   "id": "62042ea6",
   "metadata": {},
   "source": [
    "# using *in* to select lines"
   ]
  },
  {
   "cell_type": "code",
   "execution_count": 18,
   "id": "d8b47e5b",
   "metadata": {},
   "outputs": [
    {
     "name": "stdout",
     "output_type": "stream",
     "text": [
      "I am Hamail ch.\n",
      "Now i am studing in University of Agriculture faislabad.\n"
     ]
    }
   ],
   "source": [
    "fhand = open('sir.txt')\n",
    "for line in fhand:\n",
    "    line = line.rstrip()\n",
    "    if not 'am' in line : \n",
    "        continue\n",
    "    print(line)"
   ]
  },
  {
   "cell_type": "markdown",
   "id": "53a5a1c0",
   "metadata": {},
   "source": [
    "# prompt for file name"
   ]
  },
  {
   "cell_type": "code",
   "execution_count": 19,
   "id": "761a1765",
   "metadata": {},
   "outputs": [
    {
     "name": "stdout",
     "output_type": "stream",
     "text": [
      "Enter the file name: sir.txt\n",
      "There were 2 I lines in sir.txt\n"
     ]
    }
   ],
   "source": [
    "fname = input('Enter the file name: ')\n",
    "fhand = open(fname)\n",
    "count = 0\n",
    "for line in fhand:\n",
    "    if line.startswith('I') :\n",
    "        count = count + 1\n",
    "print('There were', count, 'I lines in', fname)"
   ]
  },
  {
   "cell_type": "markdown",
   "id": "0c084a4a",
   "metadata": {},
   "source": [
    "# Bad file names"
   ]
  },
  {
   "cell_type": "code",
   "execution_count": 20,
   "id": "671e7e35",
   "metadata": {},
   "outputs": [
    {
     "name": "stdout",
     "output_type": "stream",
     "text": [
      "Enter the file name: sir\n",
      "File cannot be opened: sir\n",
      "There were 0 I lines in sir\n"
     ]
    }
   ],
   "source": [
    "fname = input('Enter the file name: ')\n",
    "try:\n",
    "    fhand = open(fname)\n",
    "except:\n",
    "    print('File cannot be opened:', fname)\n",
    "    quit()\n",
    "\n",
    "count = 0\n",
    "for line in fhand:\n",
    "    if line.startswith('I') :\n",
    "        count = count + 1\n",
    "print('There were', count, 'I lines in', fname)"
   ]
  },
  {
   "cell_type": "code",
   "execution_count": null,
   "id": "a3ea4cdc",
   "metadata": {},
   "outputs": [],
   "source": []
  }
 ],
 "metadata": {
  "kernelspec": {
   "display_name": "Python 3 (ipykernel)",
   "language": "python",
   "name": "python3"
  },
  "language_info": {
   "codemirror_mode": {
    "name": "ipython",
    "version": 3
   },
   "file_extension": ".py",
   "mimetype": "text/x-python",
   "name": "python",
   "nbconvert_exporter": "python",
   "pygments_lexer": "ipython3",
   "version": "3.11.4"
  }
 },
 "nbformat": 4,
 "nbformat_minor": 5
}
