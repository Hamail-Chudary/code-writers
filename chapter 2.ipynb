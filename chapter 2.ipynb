{
 "cells": [
  {
   "cell_type": "markdown",
   "id": "a60c123c",
   "metadata": {},
   "source": [
    "# constant"
   ]
  },
  {
   "cell_type": "code",
   "execution_count": 2,
   "id": "46dc6cb6",
   "metadata": {},
   "outputs": [
    {
     "name": "stdout",
     "output_type": "stream",
     "text": [
      "constant\n"
     ]
    }
   ],
   "source": [
    "print('constant')"
   ]
  },
  {
   "cell_type": "code",
   "execution_count": 3,
   "id": "1712d6fb",
   "metadata": {},
   "outputs": [
    {
     "name": "stdout",
     "output_type": "stream",
     "text": [
      "123\n"
     ]
    }
   ],
   "source": [
    "print(123)"
   ]
  },
  {
   "cell_type": "markdown",
   "id": "626d0209",
   "metadata": {},
   "source": [
    "# reserve words"
   ]
  },
  {
   "cell_type": "code",
   "execution_count": 5,
   "id": "6bddcbd7",
   "metadata": {},
   "outputs": [
    {
     "ename": "SyntaxError",
     "evalue": "cannot assign to False (1672426048.py, line 1)",
     "output_type": "error",
     "traceback": [
      "\u001b[1;36m  Cell \u001b[1;32mIn[5], line 1\u001b[1;36m\u001b[0m\n\u001b[1;33m    False=24\u001b[0m\n\u001b[1;37m    ^\u001b[0m\n\u001b[1;31mSyntaxError\u001b[0m\u001b[1;31m:\u001b[0m cannot assign to False\n"
     ]
    }
   ],
   "source": [
    "False=24"
   ]
  },
  {
   "cell_type": "code",
   "execution_count": 6,
   "id": "7f4f420f",
   "metadata": {},
   "outputs": [
    {
     "ename": "SyntaxError",
     "evalue": "invalid syntax (1157909641.py, line 1)",
     "output_type": "error",
     "traceback": [
      "\u001b[1;36m  Cell \u001b[1;32mIn[6], line 1\u001b[1;36m\u001b[0m\n\u001b[1;33m    nonlocal=39.6\u001b[0m\n\u001b[1;37m            ^\u001b[0m\n\u001b[1;31mSyntaxError\u001b[0m\u001b[1;31m:\u001b[0m invalid syntax\n"
     ]
    }
   ],
   "source": [
    "nonlocal=39.6"
   ]
  },
  {
   "cell_type": "code",
   "execution_count": 7,
   "id": "87930317",
   "metadata": {},
   "outputs": [
    {
     "name": "stdout",
     "output_type": "stream",
     "text": [
      "so we can see that reserve words cannot be assign as variable\n"
     ]
    }
   ],
   "source": [
    "print('so we can see that reserve words cannot be assign as variable')"
   ]
  },
  {
   "cell_type": "markdown",
   "id": "0edba30d",
   "metadata": {},
   "source": [
    "# assigning values to variables"
   ]
  },
  {
   "cell_type": "code",
   "execution_count": 2,
   "id": "2cdadfd1",
   "metadata": {},
   "outputs": [],
   "source": [
    "x=3\n",
    "y=23\n",
    "c=x+y"
   ]
  },
  {
   "cell_type": "code",
   "execution_count": 14,
   "id": "b78d33b5",
   "metadata": {},
   "outputs": [
    {
     "name": "stdout",
     "output_type": "stream",
     "text": [
      "-20\n"
     ]
    }
   ],
   "source": [
    "x=3\n",
    "y=23\n",
    "z=x-y\n",
    "print(z)"
   ]
  },
  {
   "cell_type": "code",
   "execution_count": 15,
   "id": "ab5a8f22",
   "metadata": {},
   "outputs": [
    {
     "data": {
      "text/plain": [
       "26"
      ]
     },
     "execution_count": 15,
     "metadata": {},
     "output_type": "execute_result"
    }
   ],
   "source": [
    "x+y"
   ]
  },
  {
   "cell_type": "code",
   "execution_count": 16,
   "id": "d61351ae",
   "metadata": {},
   "outputs": [
    {
     "name": "stdout",
     "output_type": "stream",
     "text": [
      "11\n"
     ]
    }
   ],
   "source": [
    "x=34\n",
    "z=x-y\n",
    "print(z)"
   ]
  },
  {
   "cell_type": "markdown",
   "id": "d76250ff",
   "metadata": {},
   "source": [
    "# Assignment statement"
   ]
  },
  {
   "cell_type": "code",
   "execution_count": 18,
   "id": "a2011107",
   "metadata": {},
   "outputs": [
    {
     "name": "stdout",
     "output_type": "stream",
     "text": [
      "110\n"
     ]
    }
   ],
   "source": [
    "x=x+76\n",
    "print(x)"
   ]
  },
  {
   "cell_type": "code",
   "execution_count": 20,
   "id": "4fe5411e",
   "metadata": {},
   "outputs": [
    {
     "name": "stdout",
     "output_type": "stream",
     "text": [
      "-8527887739.8\n"
     ]
    }
   ],
   "source": [
    "x=3.9*x*(1-x)\n",
    "print(x)"
   ]
  },
  {
   "cell_type": "markdown",
   "id": "b6f4f6f9",
   "metadata": {},
   "source": [
    "# expressions"
   ]
  },
  {
   "cell_type": "code",
   "execution_count": 22,
   "id": "37525ca0",
   "metadata": {},
   "outputs": [
    {
     "name": "stdout",
     "output_type": "stream",
     "text": [
      "4\n"
     ]
    }
   ],
   "source": [
    "a=2\n",
    "a=a+2\n",
    "print(a)"
   ]
  },
  {
   "cell_type": "code",
   "execution_count": 23,
   "id": "bc0b6b6d",
   "metadata": {},
   "outputs": [
    {
     "name": "stdout",
     "output_type": "stream",
     "text": [
      "452\n"
     ]
    }
   ],
   "source": [
    "b=113*4\n",
    "print(b)\n"
   ]
  },
  {
   "cell_type": "code",
   "execution_count": 24,
   "id": "26b82580",
   "metadata": {},
   "outputs": [
    {
     "name": "stdout",
     "output_type": "stream",
     "text": [
      "2\n"
     ]
    }
   ],
   "source": [
    "b=b%5\n",
    "print(b)"
   ]
  },
  {
   "cell_type": "code",
   "execution_count": 25,
   "id": "dc23ef3d",
   "metadata": {},
   "outputs": [
    {
     "name": "stdout",
     "output_type": "stream",
     "text": [
      "1.0\n"
     ]
    }
   ],
   "source": [
    "c=b/2\n",
    "print(c)"
   ]
  },
  {
   "cell_type": "code",
   "execution_count": 26,
   "id": "8947d249",
   "metadata": {},
   "outputs": [
    {
     "name": "stdout",
     "output_type": "stream",
     "text": [
      "64\n"
     ]
    }
   ],
   "source": [
    "print(4**3)"
   ]
  },
  {
   "cell_type": "code",
   "execution_count": 27,
   "id": "bed8c3dd",
   "metadata": {},
   "outputs": [
    {
     "name": "stdout",
     "output_type": "stream",
     "text": [
      "3.0\n"
     ]
    }
   ],
   "source": [
    "print(b+c)"
   ]
  },
  {
   "cell_type": "markdown",
   "id": "fde7e613",
   "metadata": {},
   "source": [
    "# order of evaluation"
   ]
  },
  {
   "cell_type": "code",
   "execution_count": 29,
   "id": "42bcea31",
   "metadata": {},
   "outputs": [
    {
     "name": "stdout",
     "output_type": "stream",
     "text": [
      "6.999744\n"
     ]
    }
   ],
   "source": [
    "x=1+2*3-4/5**6\n",
    "print(x)"
   ]
  },
  {
   "cell_type": "markdown",
   "id": "908e8985",
   "metadata": {},
   "source": [
    "# type"
   ]
  },
  {
   "cell_type": "code",
   "execution_count": 31,
   "id": "c2b93f85",
   "metadata": {},
   "outputs": [
    {
     "name": "stdout",
     "output_type": "stream",
     "text": [
      "HamailAzam\n"
     ]
    }
   ],
   "source": [
    "ee='Hamail'+'Azam'\n",
    "print(ee)"
   ]
  },
  {
   "cell_type": "code",
   "execution_count": 32,
   "id": "63452b70",
   "metadata": {},
   "outputs": [
    {
     "ename": "TypeError",
     "evalue": "can only concatenate str (not \"int\") to str",
     "output_type": "error",
     "traceback": [
      "\u001b[1;31m---------------------------------------------------------------------------\u001b[0m",
      "\u001b[1;31mTypeError\u001b[0m                                 Traceback (most recent call last)",
      "Cell \u001b[1;32mIn[32], line 1\u001b[0m\n\u001b[1;32m----> 1\u001b[0m ee\u001b[38;5;241m=\u001b[39mee\u001b[38;5;241m+\u001b[39m\u001b[38;5;241m1\u001b[39m\n\u001b[0;32m      2\u001b[0m \u001b[38;5;28mprint\u001b[39m(ee)\n",
      "\u001b[1;31mTypeError\u001b[0m: can only concatenate str (not \"int\") to str"
     ]
    }
   ],
   "source": [
    "ee=ee+1\n",
    "print(ee)"
   ]
  },
  {
   "cell_type": "code",
   "execution_count": 33,
   "id": "f1814f5b",
   "metadata": {},
   "outputs": [
    {
     "data": {
      "text/plain": [
       "str"
      ]
     },
     "execution_count": 33,
     "metadata": {},
     "output_type": "execute_result"
    }
   ],
   "source": [
    "type(ee)"
   ]
  },
  {
   "cell_type": "code",
   "execution_count": 34,
   "id": "4b120ee4",
   "metadata": {},
   "outputs": [
    {
     "name": "stdout",
     "output_type": "stream",
     "text": [
      "1\n"
     ]
    }
   ],
   "source": [
    "ee=1\n",
    "print(ee)\n"
   ]
  },
  {
   "cell_type": "code",
   "execution_count": 35,
   "id": "48c1ca2c",
   "metadata": {},
   "outputs": [
    {
     "data": {
      "text/plain": [
       "int"
      ]
     },
     "execution_count": 35,
     "metadata": {},
     "output_type": "execute_result"
    }
   ],
   "source": [
    "type(ee)"
   ]
  },
  {
   "cell_type": "code",
   "execution_count": 36,
   "id": "e06af439",
   "metadata": {},
   "outputs": [
    {
     "name": "stdout",
     "output_type": "stream",
     "text": [
      "34.4\n"
     ]
    }
   ],
   "source": [
    "temp=34.4\n",
    "print(temp)"
   ]
  },
  {
   "cell_type": "code",
   "execution_count": 37,
   "id": "c6db65a7",
   "metadata": {},
   "outputs": [
    {
     "data": {
      "text/plain": [
       "float"
      ]
     },
     "execution_count": 37,
     "metadata": {},
     "output_type": "execute_result"
    }
   ],
   "source": [
    "type(temp)"
   ]
  },
  {
   "cell_type": "code",
   "execution_count": 38,
   "id": "52e3fdcb",
   "metadata": {},
   "outputs": [
    {
     "name": "stdout",
     "output_type": "stream",
     "text": [
      "57.4\n"
     ]
    }
   ],
   "source": [
    "ser=temp+23\n",
    "print(ser)"
   ]
  },
  {
   "cell_type": "code",
   "execution_count": 39,
   "id": "c12b93e5",
   "metadata": {},
   "outputs": [
    {
     "data": {
      "text/plain": [
       "str"
      ]
     },
     "execution_count": 39,
     "metadata": {},
     "output_type": "execute_result"
    }
   ],
   "source": [
    "fwer='hamail'\n",
    "type(fwer)"
   ]
  },
  {
   "cell_type": "markdown",
   "id": "71a72ed8",
   "metadata": {},
   "source": [
    "# type converision"
   ]
  },
  {
   "cell_type": "code",
   "execution_count": 40,
   "id": "18fd3d2b",
   "metadata": {},
   "outputs": [
    {
     "name": "stdout",
     "output_type": "stream",
     "text": [
      "277.0\n"
     ]
    }
   ],
   "source": [
    "print(float(34)+243)"
   ]
  },
  {
   "cell_type": "markdown",
   "id": "74941e41",
   "metadata": {},
   "source": [
    "# integer division results floating point"
   ]
  },
  {
   "cell_type": "code",
   "execution_count": 44,
   "id": "585ba44d",
   "metadata": {},
   "outputs": [
    {
     "name": "stdout",
     "output_type": "stream",
     "text": [
      "5.0\n"
     ]
    }
   ],
   "source": [
    "print(10/2)"
   ]
  },
  {
   "cell_type": "markdown",
   "id": "94db9294",
   "metadata": {},
   "source": [
    "# string converision"
   ]
  },
  {
   "cell_type": "code",
   "execution_count": 46,
   "id": "8f6ac755",
   "metadata": {},
   "outputs": [
    {
     "data": {
      "text/plain": [
       "str"
      ]
     },
     "execution_count": 46,
     "metadata": {},
     "output_type": "execute_result"
    }
   ],
   "source": [
    "ghw='244'\n",
    "type(ghw)"
   ]
  },
  {
   "cell_type": "code",
   "execution_count": 47,
   "id": "1dbacdf5",
   "metadata": {},
   "outputs": [
    {
     "ename": "TypeError",
     "evalue": "can only concatenate str (not \"int\") to str",
     "output_type": "error",
     "traceback": [
      "\u001b[1;31m---------------------------------------------------------------------------\u001b[0m",
      "\u001b[1;31mTypeError\u001b[0m                                 Traceback (most recent call last)",
      "Cell \u001b[1;32mIn[47], line 1\u001b[0m\n\u001b[1;32m----> 1\u001b[0m \u001b[38;5;28mprint\u001b[39m(ghw\u001b[38;5;241m+\u001b[39m\u001b[38;5;241m3\u001b[39m)\n",
      "\u001b[1;31mTypeError\u001b[0m: can only concatenate str (not \"int\") to str"
     ]
    }
   ],
   "source": [
    "print(ghw+3)"
   ]
  },
  {
   "cell_type": "code",
   "execution_count": 48,
   "id": "569d606d",
   "metadata": {},
   "outputs": [
    {
     "data": {
      "text/plain": [
       "int"
      ]
     },
     "execution_count": 48,
     "metadata": {},
     "output_type": "execute_result"
    }
   ],
   "source": [
    "asd=int(ghw)\n",
    "type(asd)"
   ]
  },
  {
   "cell_type": "code",
   "execution_count": 49,
   "id": "9e917711",
   "metadata": {},
   "outputs": [
    {
     "name": "stdout",
     "output_type": "stream",
     "text": [
      "246\n"
     ]
    }
   ],
   "source": [
    "print(asd+2)"
   ]
  },
  {
   "cell_type": "code",
   "execution_count": 50,
   "id": "bc2a9a3a",
   "metadata": {},
   "outputs": [
    {
     "data": {
      "text/plain": [
       "str"
      ]
     },
     "execution_count": 50,
     "metadata": {},
     "output_type": "execute_result"
    }
   ],
   "source": [
    "w='Hamail '\n",
    "type(w)"
   ]
  },
  {
   "cell_type": "code",
   "execution_count": 51,
   "id": "f47e88ca",
   "metadata": {
    "scrolled": true
   },
   "outputs": [
    {
     "ename": "ValueError",
     "evalue": "invalid literal for int() with base 10: 'Hamail '",
     "output_type": "error",
     "traceback": [
      "\u001b[1;31m---------------------------------------------------------------------------\u001b[0m",
      "\u001b[1;31mValueError\u001b[0m                                Traceback (most recent call last)",
      "Cell \u001b[1;32mIn[51], line 1\u001b[0m\n\u001b[1;32m----> 1\u001b[0m g\u001b[38;5;241m=\u001b[39m\u001b[38;5;28mint\u001b[39m(w)\n\u001b[0;32m      2\u001b[0m \u001b[38;5;28mtype\u001b[39m(g)\n",
      "\u001b[1;31mValueError\u001b[0m: invalid literal for int() with base 10: 'Hamail '"
     ]
    }
   ],
   "source": [
    "g=int(w)\n",
    "type(g)"
   ]
  },
  {
   "cell_type": "markdown",
   "id": "bdf37e63",
   "metadata": {},
   "source": [
    "# user input\n"
   ]
  },
  {
   "cell_type": "code",
   "execution_count": 53,
   "id": "d128cda0",
   "metadata": {},
   "outputs": [
    {
     "name": "stdout",
     "output_type": "stream",
     "text": [
      "who are you? Hamail chudary\n",
      "welcome Hamail chudary\n"
     ]
    }
   ],
   "source": [
    "nam= input('who are you? ')\n",
    "print('welcome',nam)"
   ]
  },
  {
   "cell_type": "code",
   "execution_count": 54,
   "id": "d8a8d3cd",
   "metadata": {},
   "outputs": [
    {
     "name": "stdout",
     "output_type": "stream",
     "text": [
      "your floor? first\n"
     ]
    },
    {
     "ename": "ValueError",
     "evalue": "invalid literal for int() with base 10: 'first'",
     "output_type": "error",
     "traceback": [
      "\u001b[1;31m---------------------------------------------------------------------------\u001b[0m",
      "\u001b[1;31mValueError\u001b[0m                                Traceback (most recent call last)",
      "Cell \u001b[1;32mIn[54], line 2\u001b[0m\n\u001b[0;32m      1\u001b[0m inp\u001b[38;5;241m=\u001b[39m\u001b[38;5;28minput\u001b[39m(\u001b[38;5;124m'\u001b[39m\u001b[38;5;124myour floor? \u001b[39m\u001b[38;5;124m'\u001b[39m)\n\u001b[1;32m----> 2\u001b[0m usf\u001b[38;5;241m=\u001b[39m\u001b[38;5;28mint\u001b[39m(inp)\u001b[38;5;241m+\u001b[39m\u001b[38;5;241m2\u001b[39m\n\u001b[0;32m      3\u001b[0m \u001b[38;5;28mprint\u001b[39m(\u001b[38;5;124m'\u001b[39m\u001b[38;5;124mPAK floor \u001b[39m\u001b[38;5;124m'\u001b[39m,usf)\n",
      "\u001b[1;31mValueError\u001b[0m: invalid literal for int() with base 10: 'first'"
     ]
    }
   ],
   "source": [
    "inp=input('your floor? ')\n",
    "usf=int(inp)+2\n",
    "print('PAK floor ',usf)"
   ]
  },
  {
   "cell_type": "code",
   "execution_count": 1,
   "id": "e7892073",
   "metadata": {},
   "outputs": [
    {
     "name": "stdout",
     "output_type": "stream",
     "text": [
      "your floor? 1\n",
      "PAK floor  3\n"
     ]
    }
   ],
   "source": [
    "inp=input('your floor? ')\n",
    "usf=int(inp)+2\n",
    "print('PAK floor ',usf)"
   ]
  },
  {
   "cell_type": "markdown",
   "id": "6268ce7d",
   "metadata": {},
   "source": [
    "# Exercise"
   ]
  },
  {
   "cell_type": "code",
   "execution_count": 2,
   "id": "c87a782e",
   "metadata": {},
   "outputs": [
    {
     "name": "stdout",
     "output_type": "stream",
     "text": [
      "enter hours:35\n",
      "Enter rate per hour: 2.75\n",
      "nice work\n",
      "nice work\n",
      "96.25\n"
     ]
    }
   ],
   "source": [
    "\n",
    "hours=input(\"enter hours:\")\n",
    "rate=input(\"Enter rate per hour: \")\n",
    "try:\n",
    "    working_hours=float(hours)\n",
    "    rate_per_hours=float(rate)\n",
    "except:\n",
    "    working_hours=-1\n",
    "    rate_per_hours=-1\n",
    "if working_hours>0:\n",
    "    print('nice work')\n",
    "else:\n",
    "    print('not a number')\n",
    "if rate_per_hours>0:\n",
    "    print('nice work')\n",
    "else:\n",
    "    print('not a number')\n",
    "pay=working_hours*rate_per_hours\n",
    "print(pay)"
   ]
  },
  {
   "cell_type": "code",
   "execution_count": null,
   "id": "6f972595",
   "metadata": {},
   "outputs": [],
   "source": []
  }
 ],
 "metadata": {
  "kernelspec": {
   "display_name": "Python 3 (ipykernel)",
   "language": "python",
   "name": "python3"
  },
  "language_info": {
   "codemirror_mode": {
    "name": "ipython",
    "version": 3
   },
   "file_extension": ".py",
   "mimetype": "text/x-python",
   "name": "python",
   "nbconvert_exporter": "python",
   "pygments_lexer": "ipython3",
   "version": "3.11.4"
  }
 },
 "nbformat": 4,
 "nbformat_minor": 5
}
